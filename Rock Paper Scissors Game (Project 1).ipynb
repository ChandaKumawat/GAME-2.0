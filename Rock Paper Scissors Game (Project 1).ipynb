{
 "cells": [
  {
   "cell_type": "markdown",
   "id": "d9d72144",
   "metadata": {},
   "source": [
    "# Rock Paper Scissors Game"
   ]
  },
  {
   "cell_type": "code",
   "execution_count": null,
   "id": "db8cb450",
   "metadata": {},
   "outputs": [],
   "source": [
    "# Rock win against Scissors\n",
    "# Scissors win against Paper\n",
    "# Paper win against Rock\n",
    "0 for Rock\n",
    "1 for Paper\n",
    "2 for Scissors"
   ]
  },
  {
   "cell_type": "code",
   "execution_count": 3,
   "id": "30f1f433",
   "metadata": {},
   "outputs": [
    {
     "name": "stdout",
     "output_type": "stream",
     "text": [
      "Enter your Choice : Type 0 for Rock , 1 for Paper,2 for Scissors.1\n",
      "Computer_choice: \n",
      "0\n",
      "You win.\n"
     ]
    }
   ],
   "source": [
    "import random\n",
    "user_choice = int(input(\"Enter your Choice : Type 0 for Rock , 1 for Paper,2 for Scissors.\"))\n",
    "computer_choice = random.randint(0,2)\n",
    "print(\"Computer_choice: \")\n",
    "print(computer_choice)\n",
    "if computer_choice == user_choice:\n",
    "    print(\"It`s a draw.\")\n",
    "elif computer_choice > user_choice:\n",
    "    print(\"You Lose.\")\n",
    "elif user_choice > computer_choice:\n",
    "    print(\"You win.\")\n",
    "elif computer_choice == 0 and user_choice == 2:\n",
    "    print(\"You Lose.\")\n",
    "elif user_choice == 0  and computer_choice == 2:\n",
    "    print(\"You win.\")"
   ]
  }
 ],
 "metadata": {
  "kernelspec": {
   "display_name": "Python 3 (ipykernel)",
   "language": "python",
   "name": "python3"
  },
  "language_info": {
   "codemirror_mode": {
    "name": "ipython",
    "version": 3
   },
   "file_extension": ".py",
   "mimetype": "text/x-python",
   "name": "python",
   "nbconvert_exporter": "python",
   "pygments_lexer": "ipython3",
   "version": "3.11.5"
  }
 },
 "nbformat": 4,
 "nbformat_minor": 5
}
